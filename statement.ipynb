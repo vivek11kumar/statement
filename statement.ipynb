{
 "cells": [
  {
   "cell_type": "markdown",
   "id": "b926fdba",
   "metadata": {},
   "source": [
    "# Statements\n",
    "set of instructions/code used to perform certain task."
   ]
  },
  {
   "cell_type": "markdown",
   "id": "76150708",
   "metadata": {},
   "source": [
    "# Types of statements\n",
    "* simple statements\n",
    "* compund statements"
   ]
  },
  {
   "cell_type": "markdown",
   "id": "bb9ce9ca",
   "metadata": {},
   "source": [
    "\n",
    "# Simple statements\n",
    "A simple statement consists of a single line of code that performs an action. It does not contain nested blocks or multiple instructions."
   ]
  },
  {
   "cell_type": "code",
   "execution_count": 1,
   "id": "d5e7d7da",
   "metadata": {},
   "outputs": [],
   "source": [
    "x = 5\n"
   ]
  },
  {
   "cell_type": "code",
   "execution_count": 2,
   "id": "d3436b54",
   "metadata": {},
   "outputs": [
    {
     "name": "stdout",
     "output_type": "stream",
     "text": [
      "5\n"
     ]
    }
   ],
   "source": [
    "print(x)"
   ]
  },
  {
   "cell_type": "code",
   "execution_count": 3,
   "id": "3b2b7269",
   "metadata": {},
   "outputs": [
    {
     "name": "stdout",
     "output_type": "stream",
     "text": [
      "hello\n"
     ]
    }
   ],
   "source": [
    "print(\"hello\")"
   ]
  },
  {
   "cell_type": "code",
   "execution_count": 4,
   "id": "667cdf04",
   "metadata": {},
   "outputs": [
    {
     "data": {
      "text/plain": [
       "30"
      ]
     },
     "execution_count": 4,
     "metadata": {},
     "output_type": "execute_result"
    }
   ],
   "source": [
    "10+20"
   ]
  },
  {
   "cell_type": "markdown",
   "id": "17fc152b",
   "metadata": {},
   "source": [
    "# compound statements\n",
    "A compound statement contains multiple instructions, often grouped into blocks, and can span multiple lines. These statements often include control flow structures like conditionals, loops, or functions.\n"
   ]
  },
  {
   "cell_type": "code",
   "execution_count": 5,
   "id": "5591b776",
   "metadata": {},
   "outputs": [
    {
     "data": {
      "text/plain": [
       "True"
      ]
     },
     "execution_count": 5,
     "metadata": {},
     "output_type": "execute_result"
    }
   ],
   "source": [
    "# Whether 10 is greater than 5 or not\n",
    "# comparison operators\n",
    "10 > 5\n"
   ]
  },
  {
   "cell_type": "markdown",
   "id": "d52c7a41",
   "metadata": {},
   "source": [
    "# conditional statement\n",
    "A conditional statement allows a program to make decisions based on whether a condition is True or False. In Python, the if, elif, and else keywords are used to define conditional statements."
   ]
  },
  {
   "cell_type": "markdown",
   "id": "7105b6dc",
   "metadata": {},
   "source": [
    "# if\n",
    "Used to check condition and make decisions based on whether condition is true or false\n",
    "\n",
    "\n",
    "\n",
    "```\n",
    "if condition:\n",
    "  statements(decisions)\n",
    "```\n",
    "\n"
   ]
  },
  {
   "cell_type": "code",
   "execution_count": 6,
   "id": "83163704",
   "metadata": {},
   "outputs": [
    {
     "name": "stdout",
     "output_type": "stream",
     "text": [
      "Yes,10 is greater than 5\n",
      "done\n"
     ]
    }
   ],
   "source": [
    "# first check whether 10 >5 if its true print \"Yes 10 greater than 5\"\n",
    "if 10>5:#True\n",
    "  print(\"Yes,10 is greater than 5\")\n",
    "  print(\"done\")\n"
   ]
  },
  {
   "cell_type": "markdown",
   "id": "5c25c419",
   "metadata": {},
   "source": [
    "1. **Condition:** Use the if keyword followed by the condition 10 > 5.\n",
    "2. **True Block:** If the condition is True, execute the code inside the block.\n",
    "3. **Indentation:** Indent the code to indicate it belongs to the conditional block.\n",
    "4. **Output:** Print the result if the condition evaluates to True."
   ]
  },
  {
   "cell_type": "markdown",
   "id": "07a3b7ce",
   "metadata": {},
   "source": [
    "# Indentation\n",
    "Indentation\n",
    "In Python, indentation is used to determine the grouping of code blocks. It is a way of visually indicating which statements are part of a particular code block, such as a function, loop, or conditional statement.\n",
    "\n",
    "Indentation is done using spaces or tabs, but it is important to be consistent in the style used throughout the code. Typically, four spaces are used for each level of indentation."
   ]
  },
  {
   "cell_type": "code",
   "execution_count": 7,
   "id": "db08a20d",
   "metadata": {},
   "outputs": [],
   "source": [
    "''' define input function to input an integer(500) and then verify\n",
    "whether that number is greater than 100 or not '''\n",
    "num = int(input(\"enter the integer: \")) # Takes integer value from user\n",
    "if num>100: # check whether num is greater 100 or not\n",
    "  print(f\"{num} is greater than 100\")"
   ]
  },
  {
   "cell_type": "code",
   "execution_count": null,
   "id": "58441319",
   "metadata": {},
   "outputs": [],
   "source": []
  }
 ],
 "metadata": {
  "kernelspec": {
   "display_name": "Python 3",
   "language": "python",
   "name": "python3"
  },
  "language_info": {
   "codemirror_mode": {
    "name": "ipython",
    "version": 3
   },
   "file_extension": ".py",
   "mimetype": "text/x-python",
   "name": "python",
   "nbconvert_exporter": "python",
   "pygments_lexer": "ipython3",
   "version": "3.13.7"
  }
 },
 "nbformat": 4,
 "nbformat_minor": 5
}
